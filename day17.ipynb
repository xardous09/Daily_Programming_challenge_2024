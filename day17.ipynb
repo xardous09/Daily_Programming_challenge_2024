{
 "cells": [
  {
   "cell_type": "code",
   "execution_count": 1,
   "metadata": {},
   "outputs": [],
   "source": [
    "def prime_factorization(N):\n",
    "    factors = []\n",
    "    while N % 2 == 0:\n",
    "        factors.append(2)\n",
    "        N //= 2\n",
    "    for i in range(3, int(N**0.5) + 1, 2):\n",
    "        while N % i == 0:\n",
    "            factors.append(i)\n",
    "            N //= i\n",
    "    if N > 2:\n",
    "        factors.append(N)\n",
    "    \n",
    "    return factors"
   ]
  },
  {
   "cell_type": "code",
   "execution_count": 2,
   "metadata": {},
   "outputs": [
    {
     "name": "stdout",
     "output_type": "stream",
     "text": [
      "[2, 2, 2, 2, 2, 2, 3, 643]\n"
     ]
    }
   ],
   "source": [
    "print(prime_factorization(123456))  "
   ]
  }
 ],
 "metadata": {
  "kernelspec": {
   "display_name": "Python 3",
   "language": "python",
   "name": "python3"
  },
  "language_info": {
   "codemirror_mode": {
    "name": "ipython",
    "version": 3
   },
   "file_extension": ".py",
   "mimetype": "text/x-python",
   "name": "python",
   "nbconvert_exporter": "python",
   "pygments_lexer": "ipython3",
   "version": "3.10.2"
  }
 },
 "nbformat": 4,
 "nbformat_minor": 2
}
