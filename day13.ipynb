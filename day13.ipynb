{
 "cells": [
  {
   "cell_type": "code",
   "execution_count": 1,
   "metadata": {},
   "outputs": [],
   "source": [
    "def longest_palindrome(s):\n",
    "    def expand_around_center(left, right):\n",
    "        while left >= 0 and right < len(s) and s[left] == s[right]:\n",
    "            left -= 1\n",
    "            right += 1\n",
    "        return s[left + 1:right]\n",
    "\n",
    "    if not s or len(s) == 1:\n",
    "        return s\n",
    "\n",
    "    longest_pal = \"\"\n",
    "    \n",
    "    for i in range(len(s)):\n",
    "        odd_pal = expand_around_center(i, i)\n",
    "        even_pal = expand_around_center(i, i + 1)\n",
    "        longest_pal = max(longest_pal, odd_pal, even_pal, key=len)\n",
    "\n",
    "    return longest_pal\n"
   ]
  },
  {
   "cell_type": "code",
   "execution_count": 2,
   "metadata": {},
   "outputs": [
    {
     "name": "stdout",
     "output_type": "stream",
     "text": [
      "bab\n"
     ]
    }
   ],
   "source": [
    "print(longest_palindrome(\"babad\"))"
   ]
  }
 ],
 "metadata": {
  "kernelspec": {
   "display_name": "Python 3",
   "language": "python",
   "name": "python3"
  },
  "language_info": {
   "codemirror_mode": {
    "name": "ipython",
    "version": 3
   },
   "file_extension": ".py",
   "mimetype": "text/x-python",
   "name": "python",
   "nbconvert_exporter": "python",
   "pygments_lexer": "ipython3",
   "version": "3.10.2"
  }
 },
 "nbformat": 4,
 "nbformat_minor": 2
}
