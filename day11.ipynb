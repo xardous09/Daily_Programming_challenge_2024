{
 "cells": [
  {
   "cell_type": "code",
   "execution_count": 1,
   "metadata": {},
   "outputs": [],
   "source": [
    "def permute_unique(s):\n",
    "    s = sorted(s)\n",
    "    result = []\n",
    "    used = [False] * len(s)  \n",
    "\n",
    "    def backtrack(current_permutation):\n",
    "        if len(current_permutation) == len(s):\n",
    "            result.append(\"\".join(current_permutation))\n",
    "            return\n",
    "        \n",
    "        for i in range(len(s)):\n",
    "            if used[i] or (i > 0 and s[i] == s[i-1] and not used[i-1]):\n",
    "                continue\n",
    "            used[i] = True\n",
    "            current_permutation.append(s[i])\n",
    "            backtrack(current_permutation)\n",
    "            current_permutation.pop()\n",
    "            used[i] = False\n",
    "    backtrack([])\n",
    "   \n",
    "    return result\n",
    "\n",
    "\n",
    "\n"
   ]
  },
  {
   "cell_type": "code",
   "execution_count": 2,
   "metadata": {},
   "outputs": [
    {
     "name": "stdout",
     "output_type": "stream",
     "text": [
      "['abc', 'acb', 'bac', 'bca', 'cab', 'cba']\n"
     ]
    }
   ],
   "source": [
    "print(permute_unique(\"abc\"))  "
   ]
  }
 ],
 "metadata": {
  "kernelspec": {
   "display_name": "Python 3",
   "language": "python",
   "name": "python3"
  },
  "language_info": {
   "codemirror_mode": {
    "name": "ipython",
    "version": 3
   },
   "file_extension": ".py",
   "mimetype": "text/x-python",
   "name": "python",
   "nbconvert_exporter": "python",
   "pygments_lexer": "ipython3",
   "version": "3.10.2"
  }
 },
 "nbformat": 4,
 "nbformat_minor": 2
}
