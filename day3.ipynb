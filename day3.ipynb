{
 "cells": [
  {
   "cell_type": "code",
   "execution_count": 2,
   "metadata": {},
   "outputs": [],
   "source": [
    "def find_duplicate(arr):\n",
    "    t1 = arr[0]\n",
    "    t2 = arr[0]\n",
    "    \n",
    "    while True:\n",
    "        t1 = arr[t1]  \n",
    "        t2 = arr[arr[t2]]     \n",
    "        if t1 == t2:\n",
    "            break \n",
    "\n",
    "    ptr1 = arr[0]\n",
    "    ptr2 = t1\n",
    "    \n",
    "    while ptr1 != ptr2:\n",
    "        ptr1 = arr[ptr1]\n",
    "        ptr2 = arr[ptr2]\n",
    "    \n",
    "    return ptr1  \n"
   ]
  },
  {
   "cell_type": "code",
   "execution_count": 3,
   "metadata": {},
   "outputs": [
    {
     "name": "stdout",
     "output_type": "stream",
     "text": [
      "50000\n"
     ]
    }
   ],
   "source": [
    "arr = list(range(1, 100000)) + [50000]\n",
    "print(find_duplicate(arr))"
   ]
  },
  {
   "cell_type": "code",
   "execution_count": 4,
   "metadata": {},
   "outputs": [
    {
     "name": "stdout",
     "output_type": "stream",
     "text": [
      "2\n"
     ]
    }
   ],
   "source": [
    "arr = [1, 3, 4, 2, 2]\n",
    "print(find_duplicate(arr))"
   ]
  }
 ],
 "metadata": {
  "kernelspec": {
   "display_name": "Python 3",
   "language": "python",
   "name": "python3"
  },
  "language_info": {
   "codemirror_mode": {
    "name": "ipython",
    "version": 3
   },
   "file_extension": ".py",
   "mimetype": "text/x-python",
   "name": "python",
   "nbconvert_exporter": "python",
   "pygments_lexer": "ipython3",
   "version": "3.12.5"
  }
 },
 "nbformat": 4,
 "nbformat_minor": 2
}
