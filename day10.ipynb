{
 "cells": [
  {
   "cell_type": "code",
   "execution_count": 1,
   "metadata": {},
   "outputs": [],
   "source": [
    "from collections import defaultdict\n",
    "\n",
    "def group_anagrams(strs):\n",
    "    anagrams = defaultdict(list)\n",
    "    for s in strs:\n",
    "        sorted_str = ''.join(sorted(s))\n",
    "        \n",
    "        anagrams[sorted_str].append(s)\n",
    "    \n",
    "    return list(anagrams.values())"
   ]
  },
  {
   "cell_type": "code",
   "execution_count": 2,
   "metadata": {},
   "outputs": [
    {
     "name": "stdout",
     "output_type": "stream",
     "text": [
      "[['abc', 'bca', 'cab'], ['xyz', 'zyx', 'yxz']]\n"
     ]
    }
   ],
   "source": [
    "print(group_anagrams([\"abc\", \"bca\", \"cab\", \"xyz\", \"zyx\", \"yxz\"]))  "
   ]
  }
 ],
 "metadata": {
  "kernelspec": {
   "display_name": "Python 3",
   "language": "python",
   "name": "python3"
  },
  "language_info": {
   "codemirror_mode": {
    "name": "ipython",
    "version": 3
   },
   "file_extension": ".py",
   "mimetype": "text/x-python",
   "name": "python",
   "nbconvert_exporter": "python",
   "pygments_lexer": "ipython3",
   "version": "3.10.2"
  }
 },
 "nbformat": 4,
 "nbformat_minor": 2
}
