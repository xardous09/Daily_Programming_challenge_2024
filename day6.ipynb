{
 "cells": [
  {
   "cell_type": "code",
   "execution_count": 1,
   "metadata": {},
   "outputs": [],
   "source": [
    "def find_zero_sum_subarrays(arr):\n",
    "    prefix_sum_map = {}\n",
    "    result = []\n",
    "    prefix_sum = 0\n",
    "\n",
    "    for i in range(len(arr)):\n",
    "        prefix_sum += arr[i]\n",
    "\n",
    "        if prefix_sum == 0:\n",
    "            result.append((0, i))\n",
    "\n",
    "        if prefix_sum in prefix_sum_map:\n",
    "            indices = prefix_sum_map[prefix_sum]\n",
    "            for start_index in indices:\n",
    "                result.append((start_index + 1, i))\n",
    "\n",
    "        if prefix_sum in prefix_sum_map:\n",
    "            prefix_sum_map[prefix_sum].append(i)\n",
    "        else:\n",
    "            prefix_sum_map[prefix_sum] = [i]\n",
    "\n",
    "    return result"
   ]
  },
  {
   "cell_type": "code",
   "execution_count": 2,
   "metadata": {},
   "outputs": [
    {
     "name": "stdout",
     "output_type": "stream",
     "text": [
      "[(0, 2), (2, 3)]\n"
     ]
    }
   ],
   "source": [
    "arr1 = [1, 2, -3, 3, -1, 2]\n",
    "print(find_zero_sum_subarrays(arr1))  "
   ]
  }
 ],
 "metadata": {
  "kernelspec": {
   "display_name": "Python 3",
   "language": "python",
   "name": "python3"
  },
  "language_info": {
   "codemirror_mode": {
    "name": "ipython",
    "version": 3
   },
   "file_extension": ".py",
   "mimetype": "text/x-python",
   "name": "python",
   "nbconvert_exporter": "python",
   "pygments_lexer": "ipython3",
   "version": "3.10.2"
  }
 },
 "nbformat": 4,
 "nbformat_minor": 2
}
