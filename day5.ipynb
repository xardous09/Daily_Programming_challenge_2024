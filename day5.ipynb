{
 "cells": [
  {
   "cell_type": "code",
   "execution_count": 1,
   "metadata": {},
   "outputs": [],
   "source": [
    "def find_leaders(arr):\n",
    "    n = len(arr)\n",
    "    if n == 0:\n",
    "        return []\n",
    "\n",
    "    leaders = []\n",
    "    max_from_right = arr[-1]\n",
    "    leaders.append(max_from_right)\n",
    "    for i in range(n-2, -1, -1):\n",
    "        if arr[i] >= max_from_right:\n",
    "            leaders.append(arr[i])\n",
    "            max_from_right = arr[i]\n",
    "    \n",
    "    return leaders[::-1]"
   ]
  },
  {
   "cell_type": "code",
   "execution_count": 2,
   "metadata": {},
   "outputs": [
    {
     "name": "stdout",
     "output_type": "stream",
     "text": [
      "[10, 10, 6, 5, 2]\n"
     ]
    }
   ],
   "source": [
    "arr3 = [7, 10, 4, 10, 6, 5, 2]\n",
    "print(find_leaders(arr3)) "
   ]
  }
 ],
 "metadata": {
  "kernelspec": {
   "display_name": "Python 3",
   "language": "python",
   "name": "python3"
  },
  "language_info": {
   "codemirror_mode": {
    "name": "ipython",
    "version": 3
   },
   "file_extension": ".py",
   "mimetype": "text/x-python",
   "name": "python",
   "nbconvert_exporter": "python",
   "pygments_lexer": "ipython3",
   "version": "3.12.5"
  }
 },
 "nbformat": 4,
 "nbformat_minor": 2
}
