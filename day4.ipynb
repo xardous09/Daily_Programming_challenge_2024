{
 "cells": [
  {
   "cell_type": "code",
   "execution_count": 1,
   "metadata": {},
   "outputs": [],
   "source": [
    "def merge_sorted_arrays(arr1, arr2):\n",
    "    m = len(arr1)\n",
    "    n = len(arr2)\n",
    "\n",
    "    for i in range(m):\n",
    "        if arr1[i] > arr2[0]:\n",
    "            arr1[i], arr2[0] = arr2[0], arr1[i]\n",
    "            first = arr2[0]\n",
    "            k = 1\n",
    "            while k < n and arr2[k] < first:\n",
    "                arr2[k-1] = arr2[k]\n",
    "                k += 1\n",
    "            arr2[k-1] = first"
   ]
  },
  {
   "cell_type": "code",
   "execution_count": 2,
   "metadata": {},
   "outputs": [
    {
     "name": "stdout",
     "output_type": "stream",
     "text": [
      "arr1: [1, 2, 3, 4]\n",
      "arr2: [5, 6, 7, 8]\n"
     ]
    }
   ],
   "source": [
    "arr1 = [1, 3, 5, 7]\n",
    "arr2 = [2, 4, 6, 8]\n",
    "merge_sorted_arrays(arr1, arr2)\n",
    "print(\"arr1:\", arr1)  \n",
    "print(\"arr2:\", arr2) "
   ]
  }
 ],
 "metadata": {
  "kernelspec": {
   "display_name": "Python 3",
   "language": "python",
   "name": "python3"
  },
  "language_info": {
   "codemirror_mode": {
    "name": "ipython",
    "version": 3
   },
   "file_extension": ".py",
   "mimetype": "text/x-python",
   "name": "python",
   "nbconvert_exporter": "python",
   "pygments_lexer": "ipython3",
   "version": "3.12.5"
  }
 },
 "nbformat": 4,
 "nbformat_minor": 2
}
