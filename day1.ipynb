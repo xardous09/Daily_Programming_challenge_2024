{
 "cells": [
  {
   "cell_type": "code",
   "execution_count": 1,
   "metadata": {},
   "outputs": [],
   "source": [
    "def sort_array(arr):\n",
    "    low = 0\n",
    "    mid = 0\n",
    "    high = len(arr)-1\n",
    "\n",
    "\n",
    "    while mid <= high:\n",
    "        if arr[mid] == 0:\n",
    "            arr[low], arr[mid] = arr[mid], arr[low]\n",
    "            low +=1\n",
    "            mid +=1\n",
    "        \n",
    "        elif arr[mid] == 1:\n",
    "            mid+=1\n",
    "\n",
    "        else:\n",
    "            arr[high], arr[mid] = arr[mid], arr[high]\n",
    "            high -=1\n",
    "\n",
    "    return arr"
   ]
  },
  {
   "cell_type": "code",
   "execution_count": 4,
   "metadata": {},
   "outputs": [
    {
     "name": "stdout",
     "output_type": "stream",
     "text": [
      "[0, 0, 0, 1, 1, 1, 2, 2]\n"
     ]
    }
   ],
   "source": [
    "# Test Case 1\n",
    "arr = [0, 1, 2, 1, 0, 2, 1, 0]\n",
    "print(sort_array(arr)) "
   ]
  },
  {
   "cell_type": "code",
   "execution_count": 5,
   "metadata": {},
   "outputs": [
    {
     "name": "stdout",
     "output_type": "stream",
     "text": [
      "[2, 2, 2, 2]\n"
     ]
    }
   ],
   "source": [
    "# Test Case 2\n",
    "arr =  [2, 2, 2, 2]\n",
    "print(sort_array(arr))\n"
   ]
  }
 ],
 "metadata": {
  "kernelspec": {
   "display_name": "Python 3",
   "language": "python",
   "name": "python3"
  },
  "language_info": {
   "codemirror_mode": {
    "name": "ipython",
    "version": 3
   },
   "file_extension": ".py",
   "mimetype": "text/x-python",
   "name": "python",
   "nbconvert_exporter": "python",
   "pygments_lexer": "ipython3",
   "version": "3.12.5"
  }
 },
 "nbformat": 4,
 "nbformat_minor": 2
}
