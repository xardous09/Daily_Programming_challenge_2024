{
 "cells": [
  {
   "cell_type": "code",
   "execution_count": 1,
   "metadata": {},
   "outputs": [],
   "source": [
    "from collections import defaultdict\n",
    "\n",
    "def count_substrings_with_k_distinct(s, k):\n",
    "    def at_most_k_distinct(k):\n",
    "        count = 0\n",
    "        left = 0\n",
    "        char_count = defaultdict(int)\n",
    "        \n",
    "        for right in range(len(s)):\n",
    "            char_count[s[right]] += 1\n",
    "            while len(char_count) > k:\n",
    "                char_count[s[left]] -= 1\n",
    "                if char_count[s[left]] == 0:\n",
    "                    del char_count[s[left]]\n",
    "                left += 1\n",
    "            count += right - left + 1\n",
    "            \n",
    "        return count\n",
    "    return at_most_k_distinct(k) - at_most_k_distinct(k - 1)"
   ]
  },
  {
   "cell_type": "code",
   "execution_count": 3,
   "metadata": {},
   "outputs": [
    {
     "name": "stdout",
     "output_type": "stream",
     "text": [
      "7\n"
     ]
    }
   ],
   "source": [
    "print(count_substrings_with_k_distinct(\"pqpqs\", 2))  "
   ]
  }
 ],
 "metadata": {
  "kernelspec": {
   "display_name": "Python 3",
   "language": "python",
   "name": "python3"
  },
  "language_info": {
   "codemirror_mode": {
    "name": "ipython",
    "version": 3
   },
   "file_extension": ".py",
   "mimetype": "text/x-python",
   "name": "python",
   "nbconvert_exporter": "python",
   "pygments_lexer": "ipython3",
   "version": "3.10.2"
  }
 },
 "nbformat": 4,
 "nbformat_minor": 2
}
